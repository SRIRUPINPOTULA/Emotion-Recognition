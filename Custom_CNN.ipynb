{
 "cells": [
  {
   "cell_type": "markdown",
   "id": "0b6f8db3",
   "metadata": {},
   "source": [
    "# Importing Libraries"
   ]
  },
  {
   "cell_type": "code",
   "execution_count": 1,
   "id": "6978fc80",
   "metadata": {},
   "outputs": [
    {
     "name": "stderr",
     "output_type": "stream",
     "text": [
      "2023-09-25 12:18:26.290157: I tensorflow/core/platform/cpu_feature_guard.cc:182] This TensorFlow binary is optimized to use available CPU instructions in performance-critical operations.\n",
      "To enable the following instructions: SSE4.1 SSE4.2, in other operations, rebuild TensorFlow with the appropriate compiler flags.\n"
     ]
    }
   ],
   "source": [
    "import tensorflow as tf\n",
    "from tensorflow.keras.models import Sequential\n",
    "from tensorflow.keras.layers import Dense, Dropout, Activation, Flatten\n",
    "from tensorflow.keras.layers import Conv2D, MaxPooling2D, BatchNormalization\n",
    "from tensorflow.keras.regularizers import l2\n",
    "from tensorflow.keras.optimizers import Adam\n",
    "from tensorflow.keras.preprocessing.image import ImageDataGenerator\n"
   ]
  },
  {
   "cell_type": "raw",
   "id": "149bb9dd",
   "metadata": {},
   "source": [
    "Dataset Images consists of Train and Validation Sets "
   ]
  },
  {
   "cell_type": "code",
   "execution_count": 2,
   "id": "e80fc39d",
   "metadata": {},
   "outputs": [
    {
     "name": "stdout",
     "output_type": "stream",
     "text": [
      "\u001b[34mimages\u001b[m\u001b[m/     \u001b[34mtrain\u001b[m\u001b[m/      \u001b[34mvalidation\u001b[m\u001b[m/\r\n"
     ]
    }
   ],
   "source": [
    "ls images"
   ]
  },
  {
   "cell_type": "code",
   "execution_count": 3,
   "id": "ab8787f6",
   "metadata": {},
   "outputs": [
    {
     "name": "stdout",
     "output_type": "stream",
     "text": [
      "\u001b[34mangry\u001b[m\u001b[m/    \u001b[34mdisgust\u001b[m\u001b[m/  \u001b[34mfear\u001b[m\u001b[m/     \u001b[34mhappy\u001b[m\u001b[m/    \u001b[34mneutral\u001b[m\u001b[m/  \u001b[34msad\u001b[m\u001b[m/      \u001b[34msurprise\u001b[m\u001b[m/\r\n"
     ]
    }
   ],
   "source": [
    "ls images/train/"
   ]
  },
  {
   "cell_type": "code",
   "execution_count": 4,
   "id": "50a7bf1b",
   "metadata": {},
   "outputs": [
    {
     "name": "stdout",
     "output_type": "stream",
     "text": [
      "\u001b[34mangry\u001b[m\u001b[m/    \u001b[34mdisgust\u001b[m\u001b[m/  \u001b[34mfear\u001b[m\u001b[m/     \u001b[34mhappy\u001b[m\u001b[m/    \u001b[34mneutral\u001b[m\u001b[m/  \u001b[34msad\u001b[m\u001b[m/      \u001b[34msurprise\u001b[m\u001b[m/\r\n"
     ]
    }
   ],
   "source": [
    "ls images/validation/"
   ]
  },
  {
   "cell_type": "markdown",
   "id": "8e09afb5",
   "metadata": {},
   "source": [
    "Shape of the images"
   ]
  },
  {
   "cell_type": "code",
   "execution_count": 5,
   "id": "3767ce10",
   "metadata": {},
   "outputs": [
    {
     "name": "stdout",
     "output_type": "stream",
     "text": [
      "<class 'numpy.ndarray'>\n",
      "(48, 48)\n",
      "<class 'tuple'>\n"
     ]
    }
   ],
   "source": [
    "import cv2\n",
    "\n",
    "im=cv2.imread('images/train/angry/1.jpg',cv2.IMREAD_GRAYSCALE)\n",
    "print(type(im))\n",
    "print(im.shape)\n",
    "print(type(im.shape))"
   ]
  },
  {
   "cell_type": "raw",
   "id": "1e7f208b",
   "metadata": {},
   "source": [
    "The image is a grayscale image with dimensions 48,48"
   ]
  },
  {
   "cell_type": "raw",
   "id": "72c03ee4",
   "metadata": {},
   "source": [
    "Defining of the train and validation generators"
   ]
  },
  {
   "cell_type": "code",
   "execution_count": 6,
   "id": "2d2382bc",
   "metadata": {},
   "outputs": [],
   "source": [
    "train_datagen = ImageDataGenerator(rescale=1./255\n",
    "       )\n",
    "validation_datagen = ImageDataGenerator(\n",
    "    rescale=1./255)\n",
    "    "
   ]
  },
  {
   "cell_type": "code",
   "execution_count": 7,
   "id": "f2f39653",
   "metadata": {},
   "outputs": [
    {
     "name": "stdout",
     "output_type": "stream",
     "text": [
      "Found 28821 images belonging to 7 classes.\n"
     ]
    }
   ],
   "source": [
    "train_generator = train_datagen.flow_from_directory(\n",
    "        'images/train',\n",
    "        target_size=(48,48),\n",
    "        batch_size = 32,\n",
    "        color_mode = \"grayscale\",\n",
    "        class_mode='categorical',\n",
    "        shuffle=True\n",
    ")"
   ]
  },
  {
   "cell_type": "code",
   "execution_count": 8,
   "id": "6fb0b57a",
   "metadata": {},
   "outputs": [
    {
     "name": "stdout",
     "output_type": "stream",
     "text": [
      "Found 7066 images belonging to 7 classes.\n"
     ]
    }
   ],
   "source": [
    "validation_generator = validation_datagen.flow_from_directory(\n",
    "        'images/validation',\n",
    "        target_size=(48,48),\n",
    "        batch_size = 32,\n",
    "        color_mode = \"grayscale\",\n",
    "        class_mode='categorical',\n",
    "        shuffle=False\n",
    ")"
   ]
  },
  {
   "cell_type": "code",
   "execution_count": 11,
   "id": "2bd3a637",
   "metadata": {},
   "outputs": [],
   "source": [
    "model = tf.keras.models.Sequential([\n",
    "\n",
    "    tf.keras.layers.Conv2D(32, (3,3), activation='relu', input_shape=(48, 48, 1)),\n",
    "    tf.keras.layers.Conv2D(64, (3,3), activation='relu'),\n",
    "    tf.keras.layers.MaxPooling2D(2, 2),\n",
    "    tf.keras.layers.Dropout(0.25),\n",
    "    \n",
    "    \n",
    "    tf.keras.layers.Conv2D(128, (3,3), activation='relu'),\n",
    "    tf.keras.layers.MaxPooling2D(2, 2),\n",
    "    tf.keras.layers.Dropout(0.25),\n",
    "    \n",
    "    \n",
    "    tf.keras.layers.Conv2D(128, (3,3), activation='relu'),\n",
    "    tf.keras.layers.MaxPooling2D(2,2),\n",
    "    tf.keras.layers.Dropout(0.25),\n",
    "    \n",
    "    tf.keras.layers.Flatten(),\n",
    "    tf.keras.layers.Dense(1024, activation='relu'),\n",
    "    tf.keras.layers.Dropout(0.5),\n",
    "    tf.keras.layers.Dense(7, activation='softmax')\n",
    "])\n",
    "     "
   ]
  },
  {
   "cell_type": "code",
   "execution_count": 12,
   "id": "5feab90d",
   "metadata": {},
   "outputs": [
    {
     "name": "stdout",
     "output_type": "stream",
     "text": [
      "Model: \"sequential_1\"\n",
      "_________________________________________________________________\n",
      " Layer (type)                Output Shape              Param #   \n",
      "=================================================================\n",
      " conv2d_4 (Conv2D)           (None, 46, 46, 32)        320       \n",
      "                                                                 \n",
      " conv2d_5 (Conv2D)           (None, 44, 44, 64)        18496     \n",
      "                                                                 \n",
      " max_pooling2d_3 (MaxPooling  (None, 22, 22, 64)       0         \n",
      " 2D)                                                             \n",
      "                                                                 \n",
      " dropout_3 (Dropout)         (None, 22, 22, 64)        0         \n",
      "                                                                 \n",
      " conv2d_6 (Conv2D)           (None, 20, 20, 128)       73856     \n",
      "                                                                 \n",
      " max_pooling2d_4 (MaxPooling  (None, 10, 10, 128)      0         \n",
      " 2D)                                                             \n",
      "                                                                 \n",
      " dropout_4 (Dropout)         (None, 10, 10, 128)       0         \n",
      "                                                                 \n",
      " conv2d_7 (Conv2D)           (None, 8, 8, 128)         147584    \n",
      "                                                                 \n",
      " max_pooling2d_5 (MaxPooling  (None, 4, 4, 128)        0         \n",
      " 2D)                                                             \n",
      "                                                                 \n",
      " dropout_5 (Dropout)         (None, 4, 4, 128)         0         \n",
      "                                                                 \n",
      " flatten_1 (Flatten)         (None, 2048)              0         \n",
      "                                                                 \n",
      " dense_2 (Dense)             (None, 1024)              2098176   \n",
      "                                                                 \n",
      " dropout_6 (Dropout)         (None, 1024)              0         \n",
      "                                                                 \n",
      " dense_3 (Dense)             (None, 7)                 7175      \n",
      "                                                                 \n",
      "=================================================================\n",
      "Total params: 2,345,607\n",
      "Trainable params: 2,345,607\n",
      "Non-trainable params: 0\n",
      "_________________________________________________________________\n"
     ]
    }
   ],
   "source": [
    "model.summary()"
   ]
  },
  {
   "cell_type": "code",
   "execution_count": 13,
   "id": "b37f150e",
   "metadata": {},
   "outputs": [],
   "source": [
    "model.compile(loss='categorical_crossentropy',\n",
    "              optimizer=Adam(learning_rate=0.0001,epsilon=1e-6),\n",
    "              metrics=['accuracy']\n",
    "              )"
   ]
  },
  {
   "cell_type": "code",
   "execution_count": 15,
   "id": "2d973b8f",
   "metadata": {},
   "outputs": [],
   "source": [
    "import tensorflow as tf\n",
    "class myCallback(tf.keras.callbacks.Callback):\n",
    "  def on_epoch_end(self, epoch, logs={}):\n",
    "    if(logs.get('accuracy') >70):\n",
    "      print(\"\\nReached 85% accuracy so cancelling training!\")\n",
    "      self.model.stop_training = True\n",
    "\n",
    "callbacks = myCallback()\n",
    "     "
   ]
  },
  {
   "cell_type": "code",
   "execution_count": 16,
   "id": "e299e6c4",
   "metadata": {},
   "outputs": [
    {
     "name": "stdout",
     "output_type": "stream",
     "text": [
      "Epoch 1/10\n"
     ]
    },
    {
     "name": "stderr",
     "output_type": "stream",
     "text": [
      "2023-09-25 12:20:29.810357: I tensorflow/core/common_runtime/executor.cc:1197] [/device:CPU:0] (DEBUG INFO) Executor start aborting (this does not indicate an error and you can ignore this message): INVALID_ARGUMENT: You must feed a value for placeholder tensor 'Placeholder/_0' with dtype int32\n",
      "\t [[{{node Placeholder/_0}}]]\n",
      "2023-09-25 12:20:30.446333: I tensorflow/core/grappler/optimizers/custom_graph_optimizer_registry.cc:114] Plugin optimizer for device_type GPU is enabled.\n",
      "2023-09-25 12:20:30.533614: E tensorflow/core/grappler/optimizers/meta_optimizer.cc:954] model_pruner failed: INVALID_ARGUMENT: Graph does not contain terminal node AssignAddVariableOp_10.\n"
     ]
    },
    {
     "name": "stdout",
     "output_type": "stream",
     "text": [
      "899/900 [============================>.] - ETA: 0s - loss: 1.7999 - accuracy: 0.2572"
     ]
    },
    {
     "name": "stderr",
     "output_type": "stream",
     "text": [
      "2023-09-25 12:20:56.860818: I tensorflow/core/common_runtime/executor.cc:1197] [/device:CPU:0] (DEBUG INFO) Executor start aborting (this does not indicate an error and you can ignore this message): INVALID_ARGUMENT: You must feed a value for placeholder tensor 'Placeholder/_0' with dtype int32\n",
      "\t [[{{node Placeholder/_0}}]]\n",
      "2023-09-25 12:20:56.946788: I tensorflow/core/grappler/optimizers/custom_graph_optimizer_registry.cc:114] Plugin optimizer for device_type GPU is enabled.\n"
     ]
    },
    {
     "name": "stdout",
     "output_type": "stream",
     "text": [
      "900/900 [==============================] - 30s 31ms/step - loss: 1.7999 - accuracy: 0.2572 - val_loss: 1.7023 - val_accuracy: 0.3446\n",
      "Epoch 2/10\n",
      "900/900 [==============================] - 28s 31ms/step - loss: 1.6045 - accuracy: 0.3763 - val_loss: 1.5211 - val_accuracy: 0.4307\n",
      "Epoch 3/10\n",
      "900/900 [==============================] - 28s 31ms/step - loss: 1.4929 - accuracy: 0.4282 - val_loss: 1.4265 - val_accuracy: 0.4652\n",
      "Epoch 4/10\n",
      "900/900 [==============================] - 28s 31ms/step - loss: 1.4118 - accuracy: 0.4613 - val_loss: 1.3890 - val_accuracy: 0.4658\n",
      "Epoch 5/10\n",
      "900/900 [==============================] - 28s 31ms/step - loss: 1.3495 - accuracy: 0.4881 - val_loss: 1.3071 - val_accuracy: 0.5123\n",
      "Epoch 6/10\n",
      "900/900 [==============================] - 28s 31ms/step - loss: 1.3053 - accuracy: 0.5065 - val_loss: 1.2730 - val_accuracy: 0.5232\n",
      "Epoch 7/10\n",
      "900/900 [==============================] - 27s 30ms/step - loss: 1.2768 - accuracy: 0.5200 - val_loss: 1.2385 - val_accuracy: 0.5331\n",
      "Epoch 8/10\n",
      "900/900 [==============================] - 28s 31ms/step - loss: 1.2536 - accuracy: 0.5310 - val_loss: 1.2388 - val_accuracy: 0.5389\n",
      "Epoch 9/10\n",
      "900/900 [==============================] - 28s 31ms/step - loss: 1.2480 - accuracy: 0.5345 - val_loss: 1.2326 - val_accuracy: 0.5372\n",
      "Epoch 10/10\n",
      "900/900 [==============================] - 28s 31ms/step - loss: 1.2647 - accuracy: 0.5361 - val_loss: 1.2414 - val_accuracy: 0.5378\n"
     ]
    }
   ],
   "source": [
    "history = model.fit(\n",
    "      train_generator,\n",
    "      steps_per_epoch=28821//32,\n",
    "      epochs=10,\n",
    "      validation_data = validation_generator,\n",
    "      callbacks = [callbacks]\n",
    "       )"
   ]
  },
  {
   "cell_type": "code",
   "execution_count": 17,
   "id": "b9c635e5",
   "metadata": {},
   "outputs": [],
   "source": [
    "import matplotlib.pyplot as plt\n",
    "#-----------------------------------------------------------\n",
    "# Retrieve a list of list results on training and test data\n",
    "# sets for each training epoch\n",
    "#-----------------------------------------------------------\n",
    "acc      = history.history[     'accuracy' ]\n",
    "val_acc  = history.history[ 'val_accuracy' ]\n",
    "loss     = history.history[    'loss' ]\n",
    "val_loss = history.history['val_loss' ]\n",
    "\n",
    "epochs   = range(len(acc)) # Get number of epochs\n",
    "     "
   ]
  },
  {
   "cell_type": "code",
   "execution_count": 18,
   "id": "b7581c87",
   "metadata": {},
   "outputs": [
    {
     "data": {
      "text/plain": [
       "Text(0.5, 1.0, 'Training and validation loss')"
      ]
     },
     "execution_count": 18,
     "metadata": {},
     "output_type": "execute_result"
    },
    {
     "data": {
      "image/png": "[encoded data removed]",
      "text/plain": [
       "<Figure size 640x480 with 1 Axes>"
      ]
     },
     "metadata": {},
     "output_type": "display_data"
    },
    {
     "data": {
      "image/png": "[encoded data removed]",
      "text/plain": [
       "<Figure size 640x480 with 1 Axes>"
      ]
     },
     "metadata": {},
     "output_type": "display_data"
    }
   ],
   "source": [
    "#------------------------------------------------\n",
    "# Plot training and validation accuracy per epoch\n",
    "#------------------------------------------------\n",
    "plt.plot  ( epochs,     acc )\n",
    "plt.plot  ( epochs, val_acc )\n",
    "plt.title ('Training and validation accuracy')\n",
    "plt.figure()\n",
    "\n",
    "#------------------------------------------------\n",
    "# Plot training and validation loss per epoch\n",
    "#------------------------------------------------\n",
    "plt.plot  ( epochs,     loss )\n",
    "plt.plot  ( epochs, val_loss )\n",
    "plt.title ('Training and validation loss'   )"
   ]
  },
  {
   "cell_type": "code",
   "execution_count": null,
   "id": "60d46f5c",
   "metadata": {},
   "outputs": [],
   "source": []
  }
 ],
 "metadata": {
  "kernelspec": {
   "display_name": "Python 3.10 (tensorflow)",
   "language": "python",
   "name": "tensorflow"
  },
  "language_info": {
   "codemirror_mode": {
    "name": "ipython",
    "version": 3
   },
   "file_extension": ".py",
   "mimetype": "text/x-python",
   "name": "python",
   "nbconvert_exporter": "python",
   "pygments_lexer": "ipython3",
   "version": "3.10.11"
  }
 },
 "nbformat": 4,
 "nbformat_minor": 5
}
